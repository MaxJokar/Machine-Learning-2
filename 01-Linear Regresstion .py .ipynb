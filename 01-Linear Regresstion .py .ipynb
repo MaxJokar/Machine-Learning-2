{
 "cells": [
  {
   "cell_type": "code",
   "execution_count": null,
   "metadata": {},
   "outputs": [],
   "source": [
    "import numpy as np\n",
    "import pandas as pd\n",
    "import sklearn\n",
    "from sklearn import linear_model\n",
    "import pickle\n",
    "\n",
    "\n",
    "data = pd.read_csv(\"student-mat.csv\", sep=\";\")\n",
    "data = data[[\"G1\", \"G2\", \"G3\", \"studytime\", \"failures\", \"absences\"]]\n",
    "\n",
    "predict = \"G3\"\n",
    "\n",
    "x = np.array(data.drop([predict], 1))\n",
    "y = np.array(data[predict])\n",
    "\n",
    "x_train, x_test, y_train, y_test = sklearn.model_selection.train_test_split(x, y, test_size=0.1)\n",
    "\n",
    "linear = linear_model.LinearRegression()\n",
    "\n",
    "linear.fit(x_train, y_train)\n",
    "\n",
    "accuracy = linear.score(x_test,y_test)\n",
    "print(\"Model Accuracy: \", accuracy)\n",
    "\n",
    "print(\"Coefficient: \", linear.coef_) #We have a 5 dimensional space here so we have 5 Coefficients! (our line starting position depending on 5 axis )\n",
    "print(\"Intercept: \", linear.intercept_) # y\n",
    "\n",
    "\n",
    "with open(\"studentGradeModel.pickle\", \"wb\") as modelFile:\n",
    "    pickle.dump(linear, modelFile)\n",
    "    \n",
    "# Model Accuracy:  0.8561711884626345\n",
    "# Coefficient:  [ 0.14915438  0.97858197 -0.18705036 -0.25739415  0.03514419]\n",
    "# Intercept:  -1.4132846299271602\n",
    "\n",
    "\n",
    "\n",
    "\n",
    "\n",
    "\n"
   ]
  }
 ],
 "metadata": {
  "language_info": {
   "name": "python"
  },
  "orig_nbformat": 4
 },
 "nbformat": 4,
 "nbformat_minor": 2
}
