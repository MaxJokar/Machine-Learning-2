{
 "cells": [
  {
   "cell_type": "code",
   "execution_count": null,
   "metadata": {},
   "outputs": [],
   "source": [
    "import numpy as np\n",
    "import pandas as pd\n",
    "import sklearn\n",
    "from sklearn import linear_model\n",
    "import pickle\n",
    "\n",
    "\n",
    "# Data Preparation\n",
    "data = pd.read_csv(\"student-mat.csv\", sep=\";\")\n",
    "data = data[[\"G1\", \"G2\", \"G3\", \"studytime\", \"failures\", \"absences\"]]\n",
    "predict = \"G3\"\n",
    "x = np.array(data.drop([predict], 1))\n",
    "y = np.array(data[predict])\n",
    "x_train, x_test, y_train, y_test = sklearn.model_selection.train_test_split(x, y, test_size=0.1)\n",
    "\n",
    "\n",
    "##############################\n",
    "\n",
    "pickle_in = open(\"studentGradeModel.pickle\", \"rb\")\n",
    "linear = pickle.load(pickle_in)\n",
    "\n",
    "###############################\n",
    "\n",
    "accuracy = linear.score(x_test,y_test)\n",
    "print(\"Model Accuracy: \", accuracy)\n",
    "print(\"Coefficient: \", linear.coef_) #We have a 5 dimensional space here so we have 5 Coefficients! (our line starting position depending on 5 axis )\n",
    "print(\"Intercept: \", linear.intercept_) # y\n",
    "\n",
    "print(\"\\n\\n#####################################\")\n",
    "predictions = linear.predict(x_test)\n",
    "for i in range(len(predictions)):\n",
    "    print(f\"Data #{i+1}\")\n",
    "    print(\"Model Prediction: \", predictions[i])\n",
    "    print(\"Input Data: \", x_test[i])\n",
    "    print(\"Real Label: \", y_test[i])\n",
    "    print(\"#####################################\")\n",
    "Model Accuracy:  0.7442232813786014\n",
    "Coefficient:  [ 0.14915438  0.97858197 -0.18705\n",
    "\n",
    "\n",
    "\n"
   ]
  }
 ],
 "metadata": {
  "language_info": {
   "name": "python"
  },
  "orig_nbformat": 4
 },
 "nbformat": 4,
 "nbformat_minor": 2
}
