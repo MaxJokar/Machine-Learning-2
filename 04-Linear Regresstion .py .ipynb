{
 "cells": [
  {
   "cell_type": "code",
   "execution_count": null,
   "metadata": {},
   "outputs": [],
   "source": [
    "import numpy as np\n",
    "import pandas as pd\n",
    "import sklearn\n",
    "from sklearn import linear_model\n",
    "import pickle\n",
    "import matplotlib.pyplot as plt\n",
    "from matplotlib import style\n",
    "\n",
    "# Data\n",
    "data = pd.read_csv(\"student-mat.csv\", sep=\";\")\n",
    "data = data[[\"G1\", \"G2\", \"G3\", \"studytime\", \"failures\", \"absences\"]]\n",
    "predict = \"G3\"\n",
    "x = np.array(data.drop([predict], 1))\n",
    "y = np.array(data[predict])\n",
    "x_train, x_test, y_train, y_test = sklearn.model_selection.train_test_split(x, y, test_size=0.1)\n",
    "\n",
    "# Loading Model\n",
    "pickle_in = open(\"studentGradeModel.pickle\", \"rb\")\n",
    "linear = pickle.load(pickle_in)\n",
    "\n",
    "\n",
    "style.use(\"ggplot\")\n",
    "plt.scatter(data[\"G1\"],data[\"G3\"], label=\"G1\")\n",
    "#plt.scatter(data[\"G2\"],data[\"G3\"], label=\"G2\")\n",
    "#plt.scatter(data[\"studytime\"],data[\"G3\"], label=\"studytime\")\n",
    "#plt.scatter(data[\"failures\"],data[\"G3\"], label=\"Failures\")\n",
    "#plt.scatter(data[\"absences\"],data[\"G3\"], label=\"Absences\")\n",
    "plt.xlabel(\"P\")\n",
    "plt.ylabel(\"Final Grade\")\n",
    "plt.legend()\n",
    "plt.show()\n",
    "\n"
   ]
  }
 ],
 "metadata": {
  "language_info": {
   "name": "python"
  },
  "orig_nbformat": 4
 },
 "nbformat": 4,
 "nbformat_minor": 2
}
