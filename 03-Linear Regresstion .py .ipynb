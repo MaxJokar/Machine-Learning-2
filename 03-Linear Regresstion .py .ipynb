{
 "cells": [
  {
   "cell_type": "code",
   "execution_count": null,
   "metadata": {},
   "outputs": [],
   "source": [
    "import numpy as np\n",
    "import pandas as pd\n",
    "import sklearn\n",
    "from sklearn import linear_model\n",
    "import pickle\n",
    "\n",
    "data = pd.read_csv(\"student-mat.csv\", sep=\";\")\n",
    "data = data[[\"G1\", \"G2\", \"G3\", \"studytime\", \"failures\", \"absences\"]]\n",
    "predict = \"G3\"\n",
    "x = np.array(data.drop([predict], 1))\n",
    "y = np.array(data[predict])\n",
    "\n",
    "best = 0\n",
    "for _ in range(20):\n",
    "    x_train, x_test, y_train, y_test = sklearn.model_selection.train_test_split(x, y, test_size=0.1)\n",
    "    linear = linear_model.LinearRegression()\n",
    "    linear.fit(x_train, y_train)\n",
    "\n",
    "    accuracy = linear.score(x_test,y_test)\n",
    "\n",
    "    if accuracy > best:\n",
    "        best = accuracy\n",
    "        with open(\"studentGradeModel.pickle\", \"wb\") as modelFile:\n",
    "            pickle.dump(linear, modelFile)\n",
    "\n",
    "print(\"Highest Accuracy: \", best)\n",
    "print(\"Best Model Saved.\")\n",
    "# Highest Accuracy:  0.9426452361453476\n",
    "# Best Model Saved.\n"
   ]
  }
 ],
 "metadata": {
  "language_info": {
   "name": "python"
  },
  "orig_nbformat": 4
 },
 "nbformat": 4,
 "nbformat_minor": 2
}
